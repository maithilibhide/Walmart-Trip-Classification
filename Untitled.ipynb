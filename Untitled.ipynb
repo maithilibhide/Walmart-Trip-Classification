{
 "cells": [
  {
   "cell_type": "code",
   "execution_count": 1,
   "metadata": {},
   "outputs": [],
   "source": [
    "import pandas as pd\n",
    "import numpy as np\n",
    "from pprint import pprint\n",
    "from sklearn.ensemble import RandomForestClassifier\n",
    "from sklearn.model_selection import RandomizedSearchCV\n",
    "from sklearn.model_selection import GridSearchCV\n",
    "from sklearn.model_selection import train_test_split\n",
    "from sklearn.metrics import precision_recall_fscore_support, log_loss"
   ]
  },
  {
   "cell_type": "code",
   "execution_count": 2,
   "metadata": {},
   "outputs": [],
   "source": [
    "df_train = pd.read_csv('data/processed_data/processed_train.csv')\n",
    "df_test = pd.read_csv('data/processed_data/processed_test.csv')"
   ]
  },
  {
   "cell_type": "code",
   "execution_count": 3,
   "metadata": {},
   "outputs": [
    {
     "name": "stdout",
     "output_type": "stream",
     "text": [
      "(95674, 1025)\n",
      "(95674, 1024)\n"
     ]
    }
   ],
   "source": [
    "print(df_train.shape)\n",
    "print(df_test.shape)"
   ]
  },
  {
   "cell_type": "code",
   "execution_count": 4,
   "metadata": {},
   "outputs": [
    {
     "data": {
      "text/plain": [
       "Index(['VisitNumber', 'TripType', 'Weekday', 'Upc', 'ScanCount',\n",
       "       'FinelineNumber', 'FLCount', 'VisitFLCount', 'NumPurchases',\n",
       "       'NumReturns',\n",
       "       ...\n",
       "       'UPC_7874298393.0', 'UPC_7874298761.0', 'UPC_7976503128.0',\n",
       "       'UPC_8265750406.0', 'UPC_83032400641.0', 'UPC_87458603436.0',\n",
       "       'UPC_88828940068.0', 'UPC_9506.0', 'UPC_9518801128.0',\n",
       "       'UPC_980012301.0'],\n",
       "      dtype='object', length=1025)"
      ]
     },
     "execution_count": 4,
     "metadata": {},
     "output_type": "execute_result"
    }
   ],
   "source": [
    "cols = df_train.columns\n",
    "cols"
   ]
  },
  {
   "cell_type": "code",
   "execution_count": 5,
   "metadata": {},
   "outputs": [
    {
     "name": "stdout",
     "output_type": "stream",
     "text": [
      "1023\n"
     ]
    }
   ],
   "source": [
    "features = []\n",
    "features.extend(list(cols[2:]))\n",
    "print(len(features))"
   ]
  },
  {
   "cell_type": "code",
   "execution_count": 6,
   "metadata": {},
   "outputs": [],
   "source": [
    "X = df_train.filter(features, axis=1)\n",
    "y = df_train.filter(['TripType'], axis=1)\n",
    "test_x = df_test.filter(features, axis=1)"
   ]
  },
  {
   "cell_type": "code",
   "execution_count": 7,
   "metadata": {},
   "outputs": [],
   "source": [
    "X_train, X_test, y_train, y_test = train_test_split(X, y.values.ravel(), test_size=0.33, random_state=42)"
   ]
  },
  {
   "cell_type": "code",
   "execution_count": 8,
   "metadata": {},
   "outputs": [
    {
     "data": {
      "text/plain": [
       "(0.70154879168910145, 0.70154879168910145, 0.70154879168910145, None)"
      ]
     },
     "execution_count": 8,
     "metadata": {},
     "output_type": "execute_result"
    }
   ],
   "source": [
    "clf = RandomForestClassifier(max_depth=21, max_features=500)\n",
    "clf.fit(X_train, y_train)\n",
    "preds = clf.predict(X_test)\n",
    "predictions = [round(value) for value in preds]\n",
    "precision_recall_fscore_support(y_test, predictions, average='micro')"
   ]
  },
  {
   "cell_type": "code",
   "execution_count": 9,
   "metadata": {},
   "outputs": [
    {
     "data": {
      "text/plain": [
       "1.3607557620540784"
      ]
     },
     "execution_count": 9,
     "metadata": {},
     "output_type": "execute_result"
    }
   ],
   "source": [
    "pred = clf.predict_proba(X_test)\n",
    "eval = log_loss(y_test,pred) \n",
    "eval"
   ]
  },
  {
   "cell_type": "code",
   "execution_count": 14,
   "metadata": {},
   "outputs": [],
   "source": [
    "#print(X_test.shape)\n",
    "clf.fit(X, y.values.ravel())\n",
    "#print(clf.n_features_)\n",
    "preds = clf.predict(test_x)\n",
    "predictions = [round(value) for value in preds]\n",
    "p = clf.predict_proba(test_x)"
   ]
  },
  {
   "cell_type": "code",
   "execution_count": 13,
   "metadata": {},
   "outputs": [],
   "source": [
    "param_grid = {\n",
    "    'bootstrap': [True],\n",
    "    'max_depth': [18, 20, 25, 100],\n",
    "    'max_features': ['log2', 500, 700, 'auto'],\n",
    "    'n_estimators': [10, 100, 200]\n",
    "}"
   ]
  },
  {
   "cell_type": "code",
   "execution_count": 14,
   "metadata": {},
   "outputs": [],
   "source": [
    "rf = RandomForestClassifier()\n",
    "grid_search = GridSearchCV(estimator = rf, param_grid = param_grid, scoring='neg_log_loss',\n",
    "                          cv = 3, n_jobs = -1, verbose = 2)"
   ]
  },
  {
   "cell_type": "code",
   "execution_count": 15,
   "metadata": {},
   "outputs": [
    {
     "name": "stdout",
     "output_type": "stream",
     "text": [
      "Fitting 3 folds for each of 48 candidates, totalling 144 fits\n",
      "[CV] bootstrap=True, max_depth=18, max_features=log2, n_estimators=10 \n",
      "[CV] bootstrap=True, max_depth=18, max_features=log2, n_estimators=10 \n",
      "[CV] bootstrap=True, max_depth=18, max_features=log2, n_estimators=10 \n",
      "[CV] bootstrap=True, max_depth=18, max_features=log2, n_estimators=100 \n",
      "[CV]  bootstrap=True, max_depth=18, max_features=log2, n_estimators=10, total=   2.9s\n",
      "[CV] bootstrap=True, max_depth=18, max_features=log2, n_estimators=100 \n",
      "[CV]  bootstrap=True, max_depth=18, max_features=log2, n_estimators=10, total=   3.3s\n",
      "[CV] bootstrap=True, max_depth=18, max_features=log2, n_estimators=100 \n",
      "[CV]  bootstrap=True, max_depth=18, max_features=log2, n_estimators=10, total=   3.5s\n",
      "[CV] bootstrap=True, max_depth=18, max_features=log2, n_estimators=200 \n",
      "[CV]  bootstrap=True, max_depth=18, max_features=log2, n_estimators=100, total=  22.2s\n",
      "[CV] bootstrap=True, max_depth=18, max_features=log2, n_estimators=200 \n",
      "[CV]  bootstrap=True, max_depth=18, max_features=log2, n_estimators=100, total=  22.6s\n",
      "[CV] bootstrap=True, max_depth=18, max_features=log2, n_estimators=200 \n",
      "[CV]  bootstrap=True, max_depth=18, max_features=log2, n_estimators=100, total=  23.1s\n",
      "[CV] bootstrap=True, max_depth=18, max_features=500, n_estimators=10 .\n",
      "[CV]  bootstrap=True, max_depth=18, max_features=log2, n_estimators=200, total=  44.1s\n",
      "[CV] bootstrap=True, max_depth=18, max_features=500, n_estimators=10 .\n",
      "[CV]  bootstrap=True, max_depth=18, max_features=log2, n_estimators=200, total=  42.2s\n",
      "[CV] bootstrap=True, max_depth=18, max_features=500, n_estimators=10 .\n",
      "[CV]  bootstrap=True, max_depth=18, max_features=log2, n_estimators=200, total=  42.0s\n",
      "[CV] bootstrap=True, max_depth=18, max_features=500, n_estimators=100 \n",
      "[CV]  bootstrap=True, max_depth=18, max_features=500, n_estimators=10, total=  55.3s\n",
      "[CV] bootstrap=True, max_depth=18, max_features=500, n_estimators=100 \n",
      "[CV]  bootstrap=True, max_depth=18, max_features=500, n_estimators=10, total=  53.8s\n",
      "[CV] bootstrap=True, max_depth=18, max_features=500, n_estimators=100 \n",
      "[CV]  bootstrap=True, max_depth=18, max_features=500, n_estimators=10, total=  54.0s\n",
      "[CV] bootstrap=True, max_depth=18, max_features=500, n_estimators=200 \n",
      "[CV]  bootstrap=True, max_depth=18, max_features=500, n_estimators=100, total= 8.7min\n",
      "[CV] bootstrap=True, max_depth=18, max_features=500, n_estimators=200 \n",
      "[CV]  bootstrap=True, max_depth=18, max_features=500, n_estimators=100, total= 8.7min\n",
      "[CV] bootstrap=True, max_depth=18, max_features=500, n_estimators=200 \n",
      "[CV]  bootstrap=True, max_depth=18, max_features=500, n_estimators=100, total= 8.7min\n",
      "[CV] bootstrap=True, max_depth=18, max_features=700, n_estimators=10 .\n",
      "[CV]  bootstrap=True, max_depth=18, max_features=700, n_estimators=10, total= 1.2min\n",
      "[CV] bootstrap=True, max_depth=18, max_features=700, n_estimators=10 .\n",
      "[CV]  bootstrap=True, max_depth=18, max_features=700, n_estimators=10, total=22.3min\n",
      "[CV] bootstrap=True, max_depth=18, max_features=700, n_estimators=10 .\n",
      "[CV]  bootstrap=True, max_depth=18, max_features=700, n_estimators=10, total= 1.2min\n",
      "[CV] bootstrap=True, max_depth=18, max_features=700, n_estimators=100 \n",
      "[CV]  bootstrap=True, max_depth=18, max_features=500, n_estimators=200, total=38.4min\n",
      "[CV] bootstrap=True, max_depth=18, max_features=700, n_estimators=100 \n",
      "[CV]  bootstrap=True, max_depth=18, max_features=700, n_estimators=100, total=15.4min\n",
      "[CV] bootstrap=True, max_depth=18, max_features=700, n_estimators=100 \n",
      "[CV]  bootstrap=True, max_depth=18, max_features=500, n_estimators=200, total=42.8min\n",
      "[CV] bootstrap=True, max_depth=18, max_features=700, n_estimators=200 \n",
      "[CV]  bootstrap=True, max_depth=18, max_features=500, n_estimators=200, total=42.9min\n",
      "[CV] bootstrap=True, max_depth=18, max_features=700, n_estimators=200 \n",
      "[CV]  bootstrap=True, max_depth=18, max_features=700, n_estimators=100, total=16.6min\n",
      "[CV] bootstrap=True, max_depth=18, max_features=700, n_estimators=200 \n",
      "[CV]  bootstrap=True, max_depth=18, max_features=700, n_estimators=100, total=17.5min\n",
      "[CV] bootstrap=True, max_depth=18, max_features=auto, n_estimators=10 \n",
      "[CV]  bootstrap=True, max_depth=18, max_features=auto, n_estimators=10, total=  15.1s\n",
      "[CV] bootstrap=True, max_depth=18, max_features=auto, n_estimators=10 \n",
      "[CV]  bootstrap=True, max_depth=18, max_features=auto, n_estimators=10, total=  16.0s\n",
      "[CV] bootstrap=True, max_depth=18, max_features=auto, n_estimators=10 \n",
      "[CV]  bootstrap=True, max_depth=18, max_features=auto, n_estimators=10, total=  14.6s\n",
      "[CV] bootstrap=True, max_depth=18, max_features=auto, n_estimators=100 \n",
      "[CV]  bootstrap=True, max_depth=18, max_features=auto, n_estimators=100, total= 1.7min\n",
      "[CV] bootstrap=True, max_depth=18, max_features=auto, n_estimators=100 \n",
      "[CV]  bootstrap=True, max_depth=18, max_features=auto, n_estimators=100, total= 1.5min\n",
      "[CV] bootstrap=True, max_depth=18, max_features=auto, n_estimators=100 \n",
      "[CV]  bootstrap=True, max_depth=18, max_features=auto, n_estimators=100, total= 1.4min\n",
      "[CV] bootstrap=True, max_depth=18, max_features=auto, n_estimators=200 \n",
      "[CV]  bootstrap=True, max_depth=18, max_features=auto, n_estimators=200, total=200.5min\n",
      "[CV] bootstrap=True, max_depth=18, max_features=auto, n_estimators=200 \n",
      "[CV]  bootstrap=True, max_depth=18, max_features=auto, n_estimators=200, total= 1.7min\n",
      "[CV] bootstrap=True, max_depth=18, max_features=auto, n_estimators=200 \n",
      "[CV]  bootstrap=True, max_depth=18, max_features=auto, n_estimators=200, total= 1.9min\n",
      "[CV] bootstrap=True, max_depth=20, max_features=log2, n_estimators=10 \n"
     ]
    },
    {
     "name": "stderr",
     "output_type": "stream",
     "text": [
      "[Parallel(n_jobs=-1)]: Done  33 tasks      | elapsed: 280.4min\n"
     ]
    },
    {
     "name": "stdout",
     "output_type": "stream",
     "text": [
      "[CV]  bootstrap=True, max_depth=20, max_features=log2, n_estimators=10, total=   4.6s\n",
      "[CV] bootstrap=True, max_depth=20, max_features=log2, n_estimators=10 \n",
      "[CV]  bootstrap=True, max_depth=20, max_features=log2, n_estimators=10, total=   4.8s\n",
      "[CV] bootstrap=True, max_depth=20, max_features=log2, n_estimators=10 \n",
      "[CV]  bootstrap=True, max_depth=20, max_features=log2, n_estimators=10, total=   5.0s\n",
      "[CV] bootstrap=True, max_depth=20, max_features=log2, n_estimators=100 \n",
      "[CV]  bootstrap=True, max_depth=20, max_features=log2, n_estimators=100, total=  24.9s\n",
      "[CV] bootstrap=True, max_depth=20, max_features=log2, n_estimators=100 \n",
      "[CV]  bootstrap=True, max_depth=20, max_features=log2, n_estimators=100, total=  24.4s\n",
      "[CV] bootstrap=True, max_depth=20, max_features=log2, n_estimators=100 \n",
      "[CV]  bootstrap=True, max_depth=20, max_features=log2, n_estimators=100, total=  25.9s\n",
      "[CV] bootstrap=True, max_depth=20, max_features=log2, n_estimators=200 \n",
      "[CV]  bootstrap=True, max_depth=20, max_features=log2, n_estimators=200, total=  51.3s\n",
      "[CV] bootstrap=True, max_depth=20, max_features=log2, n_estimators=200 \n",
      "[CV]  bootstrap=True, max_depth=20, max_features=log2, n_estimators=200, total=  49.8s\n",
      "[CV] bootstrap=True, max_depth=20, max_features=log2, n_estimators=200 \n",
      "[CV]  bootstrap=True, max_depth=20, max_features=log2, n_estimators=200, total=  52.8s\n",
      "[CV] bootstrap=True, max_depth=20, max_features=500, n_estimators=10 .\n",
      "[CV]  bootstrap=True, max_depth=18, max_features=700, n_estimators=200, total=232.1min\n",
      "[CV] bootstrap=True, max_depth=20, max_features=500, n_estimators=10 .\n",
      "[CV]  bootstrap=True, max_depth=18, max_features=700, n_estimators=200, total=232.1min\n",
      "[CV] bootstrap=True, max_depth=20, max_features=500, n_estimators=10 .\n",
      "[CV]  bootstrap=True, max_depth=20, max_features=500, n_estimators=10, total= 1.0min\n",
      "[CV] bootstrap=True, max_depth=20, max_features=500, n_estimators=100 \n",
      "[CV]  bootstrap=True, max_depth=20, max_features=500, n_estimators=10, total=  59.1s\n",
      "[CV] bootstrap=True, max_depth=20, max_features=500, n_estimators=100 \n",
      "[CV]  bootstrap=True, max_depth=20, max_features=500, n_estimators=10, total= 1.0min\n",
      "[CV] bootstrap=True, max_depth=20, max_features=500, n_estimators=100 \n",
      "[CV]  bootstrap=True, max_depth=18, max_features=700, n_estimators=200, total=233.5min\n",
      "[CV] bootstrap=True, max_depth=20, max_features=500, n_estimators=200 \n",
      "[CV]  bootstrap=True, max_depth=20, max_features=500, n_estimators=100, total=22.1min\n",
      "[CV] bootstrap=True, max_depth=20, max_features=500, n_estimators=200 \n",
      "[CV]  bootstrap=True, max_depth=20, max_features=500, n_estimators=100, total=22.2min\n",
      "[CV] bootstrap=True, max_depth=20, max_features=500, n_estimators=200 \n",
      "[CV]  bootstrap=True, max_depth=20, max_features=500, n_estimators=100, total=22.4min\n",
      "[CV] bootstrap=True, max_depth=20, max_features=700, n_estimators=10 .\n",
      "[CV]  bootstrap=True, max_depth=20, max_features=700, n_estimators=10, total= 2.5min\n",
      "[CV] bootstrap=True, max_depth=20, max_features=700, n_estimators=10 .\n",
      "[CV]  bootstrap=True, max_depth=20, max_features=700, n_estimators=10, total= 2.6min\n",
      "[CV] bootstrap=True, max_depth=20, max_features=700, n_estimators=10 .\n",
      "[CV]  bootstrap=True, max_depth=20, max_features=700, n_estimators=10, total= 2.5min\n",
      "[CV] bootstrap=True, max_depth=20, max_features=700, n_estimators=100 \n",
      "[CV]  bootstrap=True, max_depth=20, max_features=500, n_estimators=200, total=41.2min\n",
      "[CV] bootstrap=True, max_depth=20, max_features=700, n_estimators=100 \n",
      "[CV]  bootstrap=True, max_depth=20, max_features=700, n_estimators=100, total=27.5min\n",
      "[CV] bootstrap=True, max_depth=20, max_features=700, n_estimators=100 \n",
      "[CV]  bootstrap=True, max_depth=20, max_features=500, n_estimators=200, total=39.5min\n",
      "[CV] bootstrap=True, max_depth=20, max_features=700, n_estimators=200 \n",
      "[CV]  bootstrap=True, max_depth=20, max_features=500, n_estimators=200, total=39.7min\n",
      "[CV] bootstrap=True, max_depth=20, max_features=700, n_estimators=200 \n",
      "[CV]  bootstrap=True, max_depth=20, max_features=700, n_estimators=100, total=29.5min\n",
      "[CV] bootstrap=True, max_depth=20, max_features=700, n_estimators=200 \n",
      "[CV]  bootstrap=True, max_depth=20, max_features=700, n_estimators=100, total=28.5min\n",
      "[CV] bootstrap=True, max_depth=20, max_features=auto, n_estimators=10 \n",
      "[CV]  bootstrap=True, max_depth=20, max_features=auto, n_estimators=10, total=  18.5s\n",
      "[CV] bootstrap=True, max_depth=20, max_features=auto, n_estimators=10 \n",
      "[CV]  bootstrap=True, max_depth=20, max_features=auto, n_estimators=10, total=  15.8s\n",
      "[CV] bootstrap=True, max_depth=20, max_features=auto, n_estimators=10 \n",
      "[CV]  bootstrap=True, max_depth=20, max_features=auto, n_estimators=10, total=  17.8s\n",
      "[CV] bootstrap=True, max_depth=20, max_features=auto, n_estimators=100 \n",
      "[CV]  bootstrap=True, max_depth=20, max_features=auto, n_estimators=100, total= 1.5min\n",
      "[CV] bootstrap=True, max_depth=20, max_features=auto, n_estimators=100 \n",
      "[CV]  bootstrap=True, max_depth=20, max_features=auto, n_estimators=100, total= 1.2min\n",
      "[CV] bootstrap=True, max_depth=20, max_features=auto, n_estimators=100 \n",
      "[CV]  bootstrap=True, max_depth=20, max_features=auto, n_estimators=100, total= 1.0min\n",
      "[CV] bootstrap=True, max_depth=20, max_features=auto, n_estimators=200 \n",
      "[CV]  bootstrap=True, max_depth=20, max_features=auto, n_estimators=200, total= 2.2min\n",
      "[CV] bootstrap=True, max_depth=20, max_features=auto, n_estimators=200 \n",
      "[CV]  bootstrap=True, max_depth=20, max_features=auto, n_estimators=200, total= 2.0min\n",
      "[CV] bootstrap=True, max_depth=20, max_features=auto, n_estimators=200 \n",
      "[CV]  bootstrap=True, max_depth=20, max_features=auto, n_estimators=200, total= 2.1min\n",
      "[CV] bootstrap=True, max_depth=25, max_features=log2, n_estimators=10 \n",
      "[CV]  bootstrap=True, max_depth=25, max_features=log2, n_estimators=10, total=   5.3s\n",
      "[CV] bootstrap=True, max_depth=25, max_features=log2, n_estimators=10 \n",
      "[CV]  bootstrap=True, max_depth=25, max_features=log2, n_estimators=10, total=   5.3s\n",
      "[CV] bootstrap=True, max_depth=25, max_features=log2, n_estimators=10 \n",
      "[CV]  bootstrap=True, max_depth=25, max_features=log2, n_estimators=10, total=   6.1s\n",
      "[CV] bootstrap=True, max_depth=25, max_features=log2, n_estimators=100 \n",
      "[CV]  bootstrap=True, max_depth=25, max_features=log2, n_estimators=100, total=  36.8s\n",
      "[CV] bootstrap=True, max_depth=25, max_features=log2, n_estimators=100 \n",
      "[CV]  bootstrap=True, max_depth=25, max_features=log2, n_estimators=100, total=  33.3s\n",
      "[CV] bootstrap=True, max_depth=25, max_features=log2, n_estimators=100 \n",
      "[CV]  bootstrap=True, max_depth=25, max_features=log2, n_estimators=100, total=  35.2s\n",
      "[CV] bootstrap=True, max_depth=25, max_features=log2, n_estimators=200 \n",
      "[CV]  bootstrap=True, max_depth=25, max_features=log2, n_estimators=200, total= 1.0min\n",
      "[CV] bootstrap=True, max_depth=25, max_features=log2, n_estimators=200 \n",
      "[CV]  bootstrap=True, max_depth=25, max_features=log2, n_estimators=200, total= 1.0min\n",
      "[CV] bootstrap=True, max_depth=25, max_features=log2, n_estimators=200 \n",
      "[CV]  bootstrap=True, max_depth=20, max_features=700, n_estimators=200, total=42.6min\n",
      "[CV] bootstrap=True, max_depth=25, max_features=500, n_estimators=10 .\n",
      "[CV]  bootstrap=True, max_depth=20, max_features=700, n_estimators=200, total=42.4min\n",
      "[CV] bootstrap=True, max_depth=25, max_features=500, n_estimators=10 .\n",
      "[CV]  bootstrap=True, max_depth=25, max_features=log2, n_estimators=200, total= 1.1min\n",
      "[CV] bootstrap=True, max_depth=25, max_features=500, n_estimators=10 .\n",
      "[CV]  bootstrap=True, max_depth=25, max_features=500, n_estimators=10, total= 1.1min\n",
      "[CV] bootstrap=True, max_depth=25, max_features=500, n_estimators=100 \n",
      "[CV]  bootstrap=True, max_depth=25, max_features=500, n_estimators=10, total= 1.2min\n",
      "[CV] bootstrap=True, max_depth=25, max_features=500, n_estimators=100 \n",
      "[CV]  bootstrap=True, max_depth=25, max_features=500, n_estimators=10, total= 1.1min\n",
      "[CV] bootstrap=True, max_depth=25, max_features=500, n_estimators=100 \n",
      "[CV]  bootstrap=True, max_depth=20, max_features=700, n_estimators=200, total=35.1min\n",
      "[CV] bootstrap=True, max_depth=25, max_features=500, n_estimators=200 \n",
      "[CV]  bootstrap=True, max_depth=25, max_features=500, n_estimators=100, total=10.9min\n",
      "[CV] bootstrap=True, max_depth=25, max_features=500, n_estimators=200 \n"
     ]
    },
    {
     "name": "stdout",
     "output_type": "stream",
     "text": [
      "[CV]  bootstrap=True, max_depth=25, max_features=500, n_estimators=100, total=11.0min\n",
      "[CV] bootstrap=True, max_depth=25, max_features=500, n_estimators=200 \n",
      "[CV]  bootstrap=True, max_depth=25, max_features=500, n_estimators=100, total=10.9min\n",
      "[CV] bootstrap=True, max_depth=25, max_features=700, n_estimators=10 .\n",
      "[CV]  bootstrap=True, max_depth=25, max_features=700, n_estimators=10, total= 1.5min\n",
      "[CV] bootstrap=True, max_depth=25, max_features=700, n_estimators=10 .\n",
      "[CV]  bootstrap=True, max_depth=25, max_features=700, n_estimators=10, total= 1.5min\n",
      "[CV] bootstrap=True, max_depth=25, max_features=700, n_estimators=10 .\n",
      "[CV]  bootstrap=True, max_depth=25, max_features=700, n_estimators=10, total= 1.7min\n",
      "[CV] bootstrap=True, max_depth=25, max_features=700, n_estimators=100 \n",
      "[CV]  bootstrap=True, max_depth=25, max_features=500, n_estimators=200, total=23.4min\n",
      "[CV] bootstrap=True, max_depth=25, max_features=700, n_estimators=100 \n",
      "[CV]  bootstrap=True, max_depth=25, max_features=700, n_estimators=100, total=16.9min\n",
      "[CV] bootstrap=True, max_depth=25, max_features=700, n_estimators=100 \n",
      "[CV]  bootstrap=True, max_depth=25, max_features=500, n_estimators=200, total=24.3min\n",
      "[CV] bootstrap=True, max_depth=25, max_features=700, n_estimators=200 \n",
      "[CV]  bootstrap=True, max_depth=25, max_features=500, n_estimators=200, total=24.3min\n",
      "[CV] bootstrap=True, max_depth=25, max_features=700, n_estimators=200 \n",
      "[CV]  bootstrap=True, max_depth=25, max_features=700, n_estimators=100, total=17.0min\n",
      "[CV] bootstrap=True, max_depth=25, max_features=700, n_estimators=200 \n",
      "[CV]  bootstrap=True, max_depth=25, max_features=700, n_estimators=100, total=16.9min\n",
      "[CV] bootstrap=True, max_depth=25, max_features=auto, n_estimators=10 \n",
      "[CV]  bootstrap=True, max_depth=25, max_features=auto, n_estimators=10, total=   9.9s\n",
      "[CV] bootstrap=True, max_depth=25, max_features=auto, n_estimators=10 \n",
      "[CV]  bootstrap=True, max_depth=25, max_features=auto, n_estimators=10, total=   9.9s\n",
      "[CV] bootstrap=True, max_depth=25, max_features=auto, n_estimators=10 \n",
      "[CV]  bootstrap=True, max_depth=25, max_features=auto, n_estimators=10, total=   9.5s\n",
      "[CV] bootstrap=True, max_depth=25, max_features=auto, n_estimators=100 \n",
      "[CV]  bootstrap=True, max_depth=25, max_features=auto, n_estimators=100, total= 1.3min\n",
      "[CV] bootstrap=True, max_depth=25, max_features=auto, n_estimators=100 \n",
      "[CV]  bootstrap=True, max_depth=25, max_features=auto, n_estimators=100, total= 1.3min\n",
      "[CV] bootstrap=True, max_depth=25, max_features=auto, n_estimators=100 \n",
      "[CV]  bootstrap=True, max_depth=25, max_features=auto, n_estimators=100, total= 1.3min\n",
      "[CV] bootstrap=True, max_depth=25, max_features=auto, n_estimators=200 \n",
      "[CV]  bootstrap=True, max_depth=25, max_features=auto, n_estimators=200, total= 2.6min\n",
      "[CV] bootstrap=True, max_depth=25, max_features=auto, n_estimators=200 \n",
      "[CV]  bootstrap=True, max_depth=25, max_features=auto, n_estimators=200, total= 2.5min\n",
      "[CV] bootstrap=True, max_depth=25, max_features=auto, n_estimators=200 \n",
      "[CV]  bootstrap=True, max_depth=25, max_features=auto, n_estimators=200, total= 2.5min\n",
      "[CV] bootstrap=True, max_depth=100, max_features=log2, n_estimators=10 \n",
      "[CV]  bootstrap=True, max_depth=100, max_features=log2, n_estimators=10, total=  11.6s\n",
      "[CV] bootstrap=True, max_depth=100, max_features=log2, n_estimators=10 \n",
      "[CV]  bootstrap=True, max_depth=100, max_features=log2, n_estimators=10, total=  11.4s\n",
      "[CV] bootstrap=True, max_depth=100, max_features=log2, n_estimators=10 \n",
      "[CV]  bootstrap=True, max_depth=100, max_features=log2, n_estimators=10, total=  11.3s\n",
      "[CV] bootstrap=True, max_depth=100, max_features=log2, n_estimators=100 \n",
      "[CV]  bootstrap=True, max_depth=100, max_features=log2, n_estimators=100, total= 1.6min\n",
      "[CV] bootstrap=True, max_depth=100, max_features=log2, n_estimators=100 \n",
      "[CV]  bootstrap=True, max_depth=100, max_features=log2, n_estimators=100, total= 1.6min\n",
      "[CV] bootstrap=True, max_depth=100, max_features=log2, n_estimators=100 \n",
      "[CV]  bootstrap=True, max_depth=25, max_features=700, n_estimators=200, total=33.7min\n",
      "[CV] bootstrap=True, max_depth=100, max_features=log2, n_estimators=200 \n",
      "[CV]  bootstrap=True, max_depth=25, max_features=700, n_estimators=200, total=33.7min\n",
      "[CV] bootstrap=True, max_depth=100, max_features=log2, n_estimators=200 \n",
      "[CV]  bootstrap=True, max_depth=100, max_features=log2, n_estimators=100, total= 1.6min\n",
      "[CV] bootstrap=True, max_depth=100, max_features=log2, n_estimators=200 \n",
      "[CV]  bootstrap=True, max_depth=100, max_features=log2, n_estimators=200, total= 3.3min\n",
      "[CV] bootstrap=True, max_depth=100, max_features=500, n_estimators=10 \n",
      "[CV]  bootstrap=True, max_depth=100, max_features=log2, n_estimators=200, total= 3.2min\n",
      "[CV] bootstrap=True, max_depth=100, max_features=500, n_estimators=10 \n",
      "[CV]  bootstrap=True, max_depth=100, max_features=log2, n_estimators=200, total= 3.4min\n",
      "[CV] bootstrap=True, max_depth=100, max_features=500, n_estimators=10 \n",
      "[CV]  bootstrap=True, max_depth=100, max_features=500, n_estimators=10, total= 1.6min\n",
      "[CV] bootstrap=True, max_depth=100, max_features=500, n_estimators=100 \n",
      "[CV]  bootstrap=True, max_depth=100, max_features=500, n_estimators=10, total= 1.6min\n",
      "[CV] bootstrap=True, max_depth=100, max_features=500, n_estimators=100 \n",
      "[CV]  bootstrap=True, max_depth=100, max_features=500, n_estimators=10, total= 1.5min\n",
      "[CV] bootstrap=True, max_depth=100, max_features=500, n_estimators=100 \n",
      "[CV]  bootstrap=True, max_depth=25, max_features=700, n_estimators=200, total=34.0min\n",
      "[CV] bootstrap=True, max_depth=100, max_features=500, n_estimators=200 \n",
      "[CV]  bootstrap=True, max_depth=100, max_features=500, n_estimators=100, total=14.9min\n",
      "[CV] bootstrap=True, max_depth=100, max_features=500, n_estimators=200 \n",
      "[CV]  bootstrap=True, max_depth=100, max_features=500, n_estimators=100, total=15.0min\n",
      "[CV] bootstrap=True, max_depth=100, max_features=500, n_estimators=200 \n",
      "[CV]  bootstrap=True, max_depth=100, max_features=500, n_estimators=100, total=14.8min\n",
      "[CV] bootstrap=True, max_depth=100, max_features=700, n_estimators=10 \n",
      "[CV]  bootstrap=True, max_depth=100, max_features=700, n_estimators=10, total= 2.1min\n",
      "[CV] bootstrap=True, max_depth=100, max_features=700, n_estimators=10 \n",
      "[CV]  bootstrap=True, max_depth=100, max_features=700, n_estimators=10, total= 2.1min\n",
      "[CV] bootstrap=True, max_depth=100, max_features=700, n_estimators=10 \n",
      "[CV]  bootstrap=True, max_depth=100, max_features=700, n_estimators=10, total= 2.1min\n",
      "[CV] bootstrap=True, max_depth=100, max_features=700, n_estimators=100 \n",
      "[CV]  bootstrap=True, max_depth=100, max_features=500, n_estimators=200, total=29.8min\n",
      "[CV] bootstrap=True, max_depth=100, max_features=700, n_estimators=100 \n",
      "[CV]  bootstrap=True, max_depth=100, max_features=700, n_estimators=100, total=20.9min\n",
      "[CV] bootstrap=True, max_depth=100, max_features=700, n_estimators=100 \n",
      "[CV]  bootstrap=True, max_depth=100, max_features=500, n_estimators=200, total=29.4min\n",
      "[CV] bootstrap=True, max_depth=100, max_features=700, n_estimators=200 \n",
      "[CV]  bootstrap=True, max_depth=100, max_features=500, n_estimators=200, total=30.1min\n",
      "[CV] bootstrap=True, max_depth=100, max_features=700, n_estimators=200 \n",
      "[CV]  bootstrap=True, max_depth=100, max_features=700, n_estimators=100, total=21.0min\n",
      "[CV] bootstrap=True, max_depth=100, max_features=700, n_estimators=200 \n",
      "[CV]  bootstrap=True, max_depth=100, max_features=700, n_estimators=100, total=20.6min\n",
      "[CV] bootstrap=True, max_depth=100, max_features=auto, n_estimators=10 \n",
      "[CV]  bootstrap=True, max_depth=100, max_features=auto, n_estimators=10, total=  14.3s\n",
      "[CV] bootstrap=True, max_depth=100, max_features=auto, n_estimators=10 \n",
      "[CV]  bootstrap=True, max_depth=100, max_features=auto, n_estimators=10, total=  13.8s\n",
      "[CV] bootstrap=True, max_depth=100, max_features=auto, n_estimators=10 \n",
      "[CV]  bootstrap=True, max_depth=100, max_features=auto, n_estimators=10, total=  13.7s\n",
      "[CV] bootstrap=True, max_depth=100, max_features=auto, n_estimators=100 \n",
      "[CV]  bootstrap=True, max_depth=100, max_features=auto, n_estimators=100, total= 2.0min\n",
      "[CV] bootstrap=True, max_depth=100, max_features=auto, n_estimators=100 \n",
      "[CV]  bootstrap=True, max_depth=100, max_features=auto, n_estimators=100, total= 2.0min\n",
      "[CV] bootstrap=True, max_depth=100, max_features=auto, n_estimators=100 \n"
     ]
    },
    {
     "name": "stdout",
     "output_type": "stream",
     "text": [
      "[CV]  bootstrap=True, max_depth=100, max_features=auto, n_estimators=100, total= 2.0min\n",
      "[CV] bootstrap=True, max_depth=100, max_features=auto, n_estimators=200 \n",
      "[CV]  bootstrap=True, max_depth=100, max_features=auto, n_estimators=200, total= 4.0min\n",
      "[CV] bootstrap=True, max_depth=100, max_features=auto, n_estimators=200 \n",
      "[CV]  bootstrap=True, max_depth=100, max_features=auto, n_estimators=200, total= 4.0min\n",
      "[CV] bootstrap=True, max_depth=100, max_features=auto, n_estimators=200 \n",
      "[CV]  bootstrap=True, max_depth=100, max_features=auto, n_estimators=200, total= 4.0min\n",
      "[CV]  bootstrap=True, max_depth=100, max_features=700, n_estimators=200, total=41.6min\n",
      "[CV]  bootstrap=True, max_depth=100, max_features=700, n_estimators=200, total=41.4min\n",
      "[CV]  bootstrap=True, max_depth=100, max_features=700, n_estimators=200, total=34.9min\n"
     ]
    },
    {
     "name": "stderr",
     "output_type": "stream",
     "text": [
      "[Parallel(n_jobs=-1)]: Done 144 out of 144 | elapsed: 560.5min finished\n"
     ]
    },
    {
     "data": {
      "text/plain": [
       "GridSearchCV(cv=3, error_score='raise',\n",
       "       estimator=RandomForestClassifier(bootstrap=True, class_weight=None, criterion='gini',\n",
       "            max_depth=None, max_features='auto', max_leaf_nodes=None,\n",
       "            min_impurity_decrease=0.0, min_impurity_split=None,\n",
       "            min_samples_leaf=1, min_samples_split=2,\n",
       "            min_weight_fraction_leaf=0.0, n_estimators=10, n_jobs=1,\n",
       "            oob_score=False, random_state=None, verbose=0,\n",
       "            warm_start=False),\n",
       "       fit_params=None, iid=True, n_jobs=-1,\n",
       "       param_grid={'bootstrap': [True], 'max_depth': [18, 20, 25, 100], 'max_features': ['log2', 500, 700, 'auto'], 'n_estimators': [10, 100, 200]},\n",
       "       pre_dispatch='2*n_jobs', refit=True, return_train_score='warn',\n",
       "       scoring='neg_log_loss', verbose=2)"
      ]
     },
     "execution_count": 15,
     "metadata": {},
     "output_type": "execute_result"
    }
   ],
   "source": [
    "grid_search.fit(X, y.values.ravel())"
   ]
  },
  {
   "cell_type": "code",
   "execution_count": 16,
   "metadata": {},
   "outputs": [
    {
     "name": "stdout",
     "output_type": "stream",
     "text": [
      "{'bootstrap': True, 'max_depth': 25, 'max_features': 500, 'n_estimators': 200}\n",
      "-1.02819846561\n"
     ]
    }
   ],
   "source": [
    "best_params = grid_search.best_params_\n",
    "best_score = grid_search.best_score_\n",
    "best_rf = grid_search.best_estimator_\n",
    "print(best_params)\n",
    "print(best_score)"
   ]
  },
  {
   "cell_type": "code",
   "execution_count": 10,
   "metadata": {},
   "outputs": [],
   "source": [
    "best_rf = RandomForestClassifier(bootstrap= True, max_depth= 25, max_features= 500, n_estimators= 200)\n",
    "best_rf.fit(X, y.values.ravel())\n",
    "#print(clf.n_features_)\n",
    "preds = best_rf.predict(test_x)\n",
    "predictions = [round(value) for value in preds]\n",
    "p = best_rf.predict_proba(test_x)"
   ]
  },
  {
   "cell_type": "code",
   "execution_count": 11,
   "metadata": {},
   "outputs": [],
   "source": [
    "targets = list(np.unique(y))\n",
    "visits = df_test.VisitNumber.values #data2 is test dataframe\n",
    "targets = [\"TripType_\"+str(int(i)) for i in targets]\n",
    "out = pd.DataFrame(p,columns = targets,index=None) #p is predicted probs\n",
    "out.insert(0,'VisitNumber',visits)\n",
    "out.to_csv(\"output/output_best_rf2.csv\",index=False)"
   ]
  },
  {
   "cell_type": "markdown",
   "metadata": {},
   "source": [
    "<h3>XG Boost</h3>"
   ]
  },
  {
   "cell_type": "code",
   "execution_count": 19,
   "metadata": {},
   "outputs": [],
   "source": [
    "import xgboost as xgb\n",
    "from xgboost.sklearn import XGBClassifier"
   ]
  },
  {
   "cell_type": "code",
   "execution_count": 22,
   "metadata": {},
   "outputs": [
    {
     "data": {
      "text/plain": [
       "XGBClassifier(base_score=0.5, booster='gbtree', colsample_bylevel=1,\n",
       "       colsample_bytree=0.8, gamma=0, learning_rate=0.1, max_delta_step=0,\n",
       "       max_depth=5, min_child_weight=1, missing=None, n_estimators=1000,\n",
       "       n_jobs=1, nthread=4, objective='multi:softprob', random_state=0,\n",
       "       reg_alpha=0, reg_lambda=1, scale_pos_weight=1, seed=27, silent=True,\n",
       "       subsample=0.8)"
      ]
     },
     "execution_count": 22,
     "metadata": {},
     "output_type": "execute_result"
    }
   ],
   "source": [
    "#predictors = [x for x in train.columns if x not in [target, IDcol]]\n",
    "#predictors = y\n",
    "xgb1 = XGBClassifier(\n",
    " learning_rate =0.1,\n",
    " n_estimators=1000,\n",
    " max_depth=5,\n",
    " min_child_weight=1,\n",
    " gamma=0,\n",
    " subsample=0.8,\n",
    " colsample_bytree=0.8,\n",
    " objective= 'binary:logistic',\n",
    " nthread=4,\n",
    " scale_pos_weight=1,\n",
    " seed=27)\n",
    "xgb1.fit(X, y.values.ravel())"
   ]
  },
  {
   "cell_type": "code",
   "execution_count": 25,
   "metadata": {},
   "outputs": [],
   "source": [
    "p = clf.predict_proba(test_x)\n",
    "targets = list(np.unique(y))\n",
    "visits = df_test.VisitNumber.values #data2 is test dataframe\n",
    "targets = [\"TripType_\"+str(int(i)) for i in targets]\n",
    "out = pd.DataFrame(p,columns = targets,index=None) #p is predicted probs\n",
    "out.insert(0,'VisitNumber',visits)\n",
    "out.to_csv(\"output_xgb.csv\",index=False)"
   ]
  },
  {
   "cell_type": "code",
   "execution_count": 32,
   "metadata": {},
   "outputs": [],
   "source": [
    "dtrain = xgb.DMatrix(np.asarray(X_train), label = np.asarray(y_train))\n",
    "dtest = xgb.DMatrix(np.asarray(X_test), label = np.asarray(y_test))"
   ]
  },
  {
   "cell_type": "code",
   "execution_count": 30,
   "metadata": {},
   "outputs": [
    {
     "name": "stdout",
     "output_type": "stream",
     "text": [
      "<xgboost.core.DMatrix object at 0x11d1edfd0>\n"
     ]
    }
   ],
   "source": [
    "print(dtrain)"
   ]
  },
  {
   "cell_type": "code",
   "execution_count": 33,
   "metadata": {},
   "outputs": [],
   "source": [
    "num_round = 200\n",
    "param = {'objective': 'multi:softprob', 'num_class':38, \n",
    "     'eval_metric': 'mlogloss', \"max_delta_step\": 5}\n",
    "watchlist = [(dtrain,'train'), (dtest, 'eval')]"
   ]
  },
  {
   "cell_type": "code",
   "execution_count": 34,
   "metadata": {},
   "outputs": [
    {
     "ename": "XGBoostError",
     "evalue": "b'[10:31:24] src/objective/multiclass_obj.cc:77: Check failed: label_error >= 0 && label_error < nclass SoftmaxMultiClassObj: label must be in [0, num_class), num_class=38 but found 39 in label.\\n\\nStack trace returned 2 entries:\\n[bt] (0) 0   libxgboost.dylib                    0x000000011e5541c9 _ZN4dmlc15LogMessageFatalD1Ev + 41\\n[bt] (1) 1   libstdc++.6.dylib                   0x0000000142cc1300 _ZTVNSt7__cxx1115basic_stringbufIcSt11char_traitsIcESaIcEEE + 16\\n'",
     "output_type": "error",
     "traceback": [
      "\u001b[0;31m---------------------------------------------------------------------------\u001b[0m",
      "\u001b[0;31mXGBoostError\u001b[0m                              Traceback (most recent call last)",
      "\u001b[0;32m<ipython-input-34-e5a5be7ffe9a>\u001b[0m in \u001b[0;36m<module>\u001b[0;34m()\u001b[0m\n\u001b[1;32m      1\u001b[0m bst = xgb.train(param, dtrain, num_round, watchlist, \n\u001b[0;32m----> 2\u001b[0;31m             early_stopping_rounds=3)\n\u001b[0m",
      "\u001b[0;32m/usr/local/lib/python3.6/site-packages/xgboost/training.py\u001b[0m in \u001b[0;36mtrain\u001b[0;34m(params, dtrain, num_boost_round, evals, obj, feval, maximize, early_stopping_rounds, evals_result, verbose_eval, xgb_model, callbacks, learning_rates)\u001b[0m\n\u001b[1;32m    202\u001b[0m                            \u001b[0mevals\u001b[0m\u001b[0;34m=\u001b[0m\u001b[0mevals\u001b[0m\u001b[0;34m,\u001b[0m\u001b[0;34m\u001b[0m\u001b[0m\n\u001b[1;32m    203\u001b[0m                            \u001b[0mobj\u001b[0m\u001b[0;34m=\u001b[0m\u001b[0mobj\u001b[0m\u001b[0;34m,\u001b[0m \u001b[0mfeval\u001b[0m\u001b[0;34m=\u001b[0m\u001b[0mfeval\u001b[0m\u001b[0;34m,\u001b[0m\u001b[0;34m\u001b[0m\u001b[0m\n\u001b[0;32m--> 204\u001b[0;31m                            xgb_model=xgb_model, callbacks=callbacks)\n\u001b[0m\u001b[1;32m    205\u001b[0m \u001b[0;34m\u001b[0m\u001b[0m\n\u001b[1;32m    206\u001b[0m \u001b[0;34m\u001b[0m\u001b[0m\n",
      "\u001b[0;32m/usr/local/lib/python3.6/site-packages/xgboost/training.py\u001b[0m in \u001b[0;36m_train_internal\u001b[0;34m(params, dtrain, num_boost_round, evals, obj, feval, xgb_model, callbacks)\u001b[0m\n\u001b[1;32m     72\u001b[0m         \u001b[0;31m# Skip the first update if it is a recovery step.\u001b[0m\u001b[0;34m\u001b[0m\u001b[0;34m\u001b[0m\u001b[0m\n\u001b[1;32m     73\u001b[0m         \u001b[0;32mif\u001b[0m \u001b[0mversion\u001b[0m \u001b[0;34m%\u001b[0m \u001b[0;36m2\u001b[0m \u001b[0;34m==\u001b[0m \u001b[0;36m0\u001b[0m\u001b[0;34m:\u001b[0m\u001b[0;34m\u001b[0m\u001b[0m\n\u001b[0;32m---> 74\u001b[0;31m             \u001b[0mbst\u001b[0m\u001b[0;34m.\u001b[0m\u001b[0mupdate\u001b[0m\u001b[0;34m(\u001b[0m\u001b[0mdtrain\u001b[0m\u001b[0;34m,\u001b[0m \u001b[0mi\u001b[0m\u001b[0;34m,\u001b[0m \u001b[0mobj\u001b[0m\u001b[0;34m)\u001b[0m\u001b[0;34m\u001b[0m\u001b[0m\n\u001b[0m\u001b[1;32m     75\u001b[0m             \u001b[0mbst\u001b[0m\u001b[0;34m.\u001b[0m\u001b[0msave_rabit_checkpoint\u001b[0m\u001b[0;34m(\u001b[0m\u001b[0;34m)\u001b[0m\u001b[0;34m\u001b[0m\u001b[0m\n\u001b[1;32m     76\u001b[0m             \u001b[0mversion\u001b[0m \u001b[0;34m+=\u001b[0m \u001b[0;36m1\u001b[0m\u001b[0;34m\u001b[0m\u001b[0m\n",
      "\u001b[0;32m/usr/local/lib/python3.6/site-packages/xgboost/core.py\u001b[0m in \u001b[0;36mupdate\u001b[0;34m(self, dtrain, iteration, fobj)\u001b[0m\n\u001b[1;32m    893\u001b[0m         \u001b[0;32mif\u001b[0m \u001b[0mfobj\u001b[0m \u001b[0;32mis\u001b[0m \u001b[0;32mNone\u001b[0m\u001b[0;34m:\u001b[0m\u001b[0;34m\u001b[0m\u001b[0m\n\u001b[1;32m    894\u001b[0m             _check_call(_LIB.XGBoosterUpdateOneIter(self.handle, ctypes.c_int(iteration),\n\u001b[0;32m--> 895\u001b[0;31m                                                     dtrain.handle))\n\u001b[0m\u001b[1;32m    896\u001b[0m         \u001b[0;32melse\u001b[0m\u001b[0;34m:\u001b[0m\u001b[0;34m\u001b[0m\u001b[0m\n\u001b[1;32m    897\u001b[0m             \u001b[0mpred\u001b[0m \u001b[0;34m=\u001b[0m \u001b[0mself\u001b[0m\u001b[0;34m.\u001b[0m\u001b[0mpredict\u001b[0m\u001b[0;34m(\u001b[0m\u001b[0mdtrain\u001b[0m\u001b[0;34m)\u001b[0m\u001b[0;34m\u001b[0m\u001b[0m\n",
      "\u001b[0;32m/usr/local/lib/python3.6/site-packages/xgboost/core.py\u001b[0m in \u001b[0;36m_check_call\u001b[0;34m(ret)\u001b[0m\n\u001b[1;32m    128\u001b[0m     \"\"\"\n\u001b[1;32m    129\u001b[0m     \u001b[0;32mif\u001b[0m \u001b[0mret\u001b[0m \u001b[0;34m!=\u001b[0m \u001b[0;36m0\u001b[0m\u001b[0;34m:\u001b[0m\u001b[0;34m\u001b[0m\u001b[0m\n\u001b[0;32m--> 130\u001b[0;31m         \u001b[0;32mraise\u001b[0m \u001b[0mXGBoostError\u001b[0m\u001b[0;34m(\u001b[0m\u001b[0m_LIB\u001b[0m\u001b[0;34m.\u001b[0m\u001b[0mXGBGetLastError\u001b[0m\u001b[0;34m(\u001b[0m\u001b[0;34m)\u001b[0m\u001b[0;34m)\u001b[0m\u001b[0;34m\u001b[0m\u001b[0m\n\u001b[0m\u001b[1;32m    131\u001b[0m \u001b[0;34m\u001b[0m\u001b[0m\n\u001b[1;32m    132\u001b[0m \u001b[0;34m\u001b[0m\u001b[0m\n",
      "\u001b[0;31mXGBoostError\u001b[0m: b'[10:31:24] src/objective/multiclass_obj.cc:77: Check failed: label_error >= 0 && label_error < nclass SoftmaxMultiClassObj: label must be in [0, num_class), num_class=38 but found 39 in label.\\n\\nStack trace returned 2 entries:\\n[bt] (0) 0   libxgboost.dylib                    0x000000011e5541c9 _ZN4dmlc15LogMessageFatalD1Ev + 41\\n[bt] (1) 1   libstdc++.6.dylib                   0x0000000142cc1300 _ZTVNSt7__cxx1115basic_stringbufIcSt11char_traitsIcESaIcEEE + 16\\n'"
     ]
    }
   ],
   "source": [
    "bst = xgb.train(param, dtrain, num_round, watchlist, \n",
    "            early_stopping_rounds=3)\n"
   ]
  },
  {
   "cell_type": "code",
   "execution_count": null,
   "metadata": {},
   "outputs": [],
   "source": []
  }
 ],
 "metadata": {
  "kernelspec": {
   "display_name": "Python 3",
   "language": "python",
   "name": "python3"
  },
  "language_info": {
   "codemirror_mode": {
    "name": "ipython",
    "version": 3
   },
   "file_extension": ".py",
   "mimetype": "text/x-python",
   "name": "python",
   "nbconvert_exporter": "python",
   "pygments_lexer": "ipython3",
   "version": "3.6.5"
  }
 },
 "nbformat": 4,
 "nbformat_minor": 2
}
